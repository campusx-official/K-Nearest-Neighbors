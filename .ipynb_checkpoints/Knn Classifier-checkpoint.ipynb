{
 "cells": [
  {
   "cell_type": "code",
   "execution_count": 1,
   "metadata": {},
   "outputs": [],
   "source": [
    "import numpy as np\n",
    "import pandas as pd\n",
    "import matplotlib.pyplot as plt"
   ]
  },
  {
   "cell_type": "code",
   "execution_count": 178,
   "metadata": {},
   "outputs": [
    {
     "data": {
      "text/html": [
       "<div>\n",
       "<style scoped>\n",
       "    .dataframe tbody tr th:only-of-type {\n",
       "        vertical-align: middle;\n",
       "    }\n",
       "\n",
       "    .dataframe tbody tr th {\n",
       "        vertical-align: top;\n",
       "    }\n",
       "\n",
       "    .dataframe thead th {\n",
       "        text-align: right;\n",
       "    }\n",
       "</style>\n",
       "<table border=\"1\" class=\"dataframe\">\n",
       "  <thead>\n",
       "    <tr style=\"text-align: right;\">\n",
       "      <th></th>\n",
       "      <th>User ID</th>\n",
       "      <th>Gender</th>\n",
       "      <th>Age</th>\n",
       "      <th>EstimatedSalary</th>\n",
       "      <th>Purchased</th>\n",
       "    </tr>\n",
       "  </thead>\n",
       "  <tbody>\n",
       "    <tr>\n",
       "      <th>0</th>\n",
       "      <td>15624510</td>\n",
       "      <td>Male</td>\n",
       "      <td>19</td>\n",
       "      <td>19000</td>\n",
       "      <td>0</td>\n",
       "    </tr>\n",
       "    <tr>\n",
       "      <th>1</th>\n",
       "      <td>15810944</td>\n",
       "      <td>Male</td>\n",
       "      <td>35</td>\n",
       "      <td>20000</td>\n",
       "      <td>0</td>\n",
       "    </tr>\n",
       "    <tr>\n",
       "      <th>2</th>\n",
       "      <td>15668575</td>\n",
       "      <td>Female</td>\n",
       "      <td>26</td>\n",
       "      <td>43000</td>\n",
       "      <td>0</td>\n",
       "    </tr>\n",
       "    <tr>\n",
       "      <th>3</th>\n",
       "      <td>15603246</td>\n",
       "      <td>Female</td>\n",
       "      <td>27</td>\n",
       "      <td>57000</td>\n",
       "      <td>0</td>\n",
       "    </tr>\n",
       "    <tr>\n",
       "      <th>4</th>\n",
       "      <td>15804002</td>\n",
       "      <td>Male</td>\n",
       "      <td>19</td>\n",
       "      <td>76000</td>\n",
       "      <td>0</td>\n",
       "    </tr>\n",
       "  </tbody>\n",
       "</table>\n",
       "</div>"
      ],
      "text/plain": [
       "    User ID  Gender  Age  EstimatedSalary  Purchased\n",
       "0  15624510    Male   19            19000          0\n",
       "1  15810944    Male   35            20000          0\n",
       "2  15668575  Female   26            43000          0\n",
       "3  15603246  Female   27            57000          0\n",
       "4  15804002    Male   19            76000          0"
      ]
     },
     "execution_count": 178,
     "metadata": {},
     "output_type": "execute_result"
    }
   ],
   "source": [
    "data=pd.read_csv('Social_Network_Ads.csv')\n",
    "data.head()"
   ]
  },
  {
   "cell_type": "code",
   "execution_count": 314,
   "metadata": {},
   "outputs": [],
   "source": [
    "X=data.iloc[:,2:4].values"
   ]
  },
  {
   "cell_type": "code",
   "execution_count": 181,
   "metadata": {},
   "outputs": [
    {
     "data": {
      "text/plain": [
       "(400, 2)"
      ]
     },
     "execution_count": 181,
     "metadata": {},
     "output_type": "execute_result"
    }
   ],
   "source": [
    "X.shape"
   ]
  },
  {
   "cell_type": "code",
   "execution_count": 182,
   "metadata": {},
   "outputs": [],
   "source": [
    "y=data.iloc[:,-1].values"
   ]
  },
  {
   "cell_type": "code",
   "execution_count": 183,
   "metadata": {},
   "outputs": [
    {
     "data": {
      "text/plain": [
       "(400,)"
      ]
     },
     "execution_count": 183,
     "metadata": {},
     "output_type": "execute_result"
    }
   ],
   "source": [
    "y.shape"
   ]
  },
  {
   "cell_type": "code",
   "execution_count": 184,
   "metadata": {},
   "outputs": [],
   "source": [
    "from sklearn.model_selection import train_test_split\n",
    "X_train,X_test,y_train,y_test=train_test_split(X,y,test_size=0.20)"
   ]
  },
  {
   "cell_type": "code",
   "execution_count": 185,
   "metadata": {},
   "outputs": [
    {
     "data": {
      "text/plain": [
       "(320, 2)"
      ]
     },
     "execution_count": 185,
     "metadata": {},
     "output_type": "execute_result"
    }
   ],
   "source": [
    "X_train.shape"
   ]
  },
  {
   "cell_type": "code",
   "execution_count": 186,
   "metadata": {},
   "outputs": [
    {
     "data": {
      "text/plain": [
       "(80, 2)"
      ]
     },
     "execution_count": 186,
     "metadata": {},
     "output_type": "execute_result"
    }
   ],
   "source": [
    "X_test.shape"
   ]
  },
  {
   "cell_type": "code",
   "execution_count": 187,
   "metadata": {},
   "outputs": [],
   "source": [
    "from sklearn.preprocessing import StandardScaler\n",
    "scaler=StandardScaler()"
   ]
  },
  {
   "cell_type": "code",
   "execution_count": 188,
   "metadata": {},
   "outputs": [
    {
     "data": {
      "text/plain": [
       "array([[-0.73016434,  0.51813549],\n",
       "       [-0.25775716,  0.54766414],\n",
       "       [-1.01360864,  0.78389332],\n",
       "       [ 1.15946436,  0.54766414],\n",
       "       [-1.76946012,  0.01614848],\n",
       "       [-0.44672003, -1.13546878],\n",
       "       [ 0.12016857, -0.81065365],\n",
       "       [-0.25775716, -0.8992396 ],\n",
       "       [-0.25775716, -1.37169796],\n",
       "       [-0.54120147,  0.90200791],\n",
       "       [ 0.02568714,  0.04567713],\n",
       "       [ 0.21465001, -0.279138  ],\n",
       "       [ 2.00979727, -1.19452607],\n",
       "       [-0.6356829 , -0.10196611],\n",
       "       [-0.25775716, -0.13149476],\n",
       "       [-1.48601582, -0.42678123],\n",
       "       [ 0.12016857,  1.90598192],\n",
       "       [ 0.68705718, -1.28311201],\n",
       "       [ 0.40361288,  0.16379172],\n",
       "       [ 0.40361288,  1.0201225 ],\n",
       "       [ 1.15946436, -0.98782554],\n",
       "       [-0.25775716, -1.31264066],\n",
       "       [ 0.78153862,  1.40399491],\n",
       "       [ 1.34842723,  2.02409651],\n",
       "       [ 0.02568714, -0.54489582],\n",
       "       [-1.01360864,  0.60672143],\n",
       "       [-0.3522386 , -0.78112501],\n",
       "       [ 1.06498292,  0.13426307],\n",
       "       [ 0.21465001, -0.66301041],\n",
       "       [ 0.12016857,  0.04567713],\n",
       "       [-0.54120147,  0.48860684],\n",
       "       [ 0.68705718,  1.81739598],\n",
       "       [-0.44672003, -0.78112501],\n",
       "       [ 0.97050149, -1.19452607],\n",
       "       [ 0.40361288, -0.13149476],\n",
       "       [ 1.91531584,  0.93153655],\n",
       "       [ 0.02568714,  1.28588032],\n",
       "       [-0.25775716, -1.25358337],\n",
       "       [ 1.63187153, -0.8992396 ],\n",
       "       [-0.06879429, -0.2200807 ],\n",
       "       [-0.25775716,  0.22284901],\n",
       "       [-0.82464577,  0.16379172],\n",
       "       [ 0.12016857,  0.78389332],\n",
       "       [-1.20257151, -1.4012266 ],\n",
       "       [-1.10809008,  0.07520577],\n",
       "       [ 1.8208344 , -1.28311201],\n",
       "       [-0.54120147, -1.51934119],\n",
       "       [ 0.40361288,  0.31143495],\n",
       "       [ 0.30913144,  0.04567713],\n",
       "       [-1.67497869, -1.37169796],\n",
       "       [ 0.59257575,  2.05362516],\n",
       "       [-0.25775716, -1.4012266 ],\n",
       "       [-0.25775716, -0.279138  ],\n",
       "       [ 0.02568714, -0.24960935],\n",
       "       [ 0.97050149,  2.02409651],\n",
       "       [-0.6356829 , -1.04688283],\n",
       "       [-0.73016434, -1.54886984],\n",
       "       [-0.82464577, -0.78112501],\n",
       "       [-0.91912721, -0.30866664],\n",
       "       [ 2.00979727,  1.78786733],\n",
       "       [-1.29705295, -1.37169796],\n",
       "       [ 0.40361288,  1.13823709],\n",
       "       [-1.20257151,  0.28190631],\n",
       "       [ 1.44290866,  1.0201225 ],\n",
       "       [ 1.72635297, -0.279138  ],\n",
       "       [-0.91912721, -0.30866664],\n",
       "       [ 0.68705718, -1.4012266 ],\n",
       "       [ 2.00979727,  0.54766414],\n",
       "       [-0.06879429,  0.07520577],\n",
       "       [-0.06879429, -0.48583853],\n",
       "       [ 0.30913144,  0.07520577],\n",
       "       [ 2.00979727,  0.19332036],\n",
       "       [-0.06879429,  0.31143495],\n",
       "       [ 0.97050149,  1.46305221],\n",
       "       [ 0.21465001,  0.25237766],\n",
       "       [ 0.40361288, -0.13149476],\n",
       "       [-0.91912721, -0.95829689],\n",
       "       [ 1.91531584,  0.75436467],\n",
       "       [-1.48601582, -1.51934119],\n",
       "       [-1.20257151,  0.51813549],\n",
       "       [-0.6356829 ,  0.57719278],\n",
       "       [-0.25775716, -0.42678123],\n",
       "       [ 0.12016857, -0.30866664],\n",
       "       [ 0.21465001,  1.10870844],\n",
       "       [-0.73016434,  1.10870844],\n",
       "       [ 2.10427871, -1.04688283],\n",
       "       [ 0.12016857, -0.24960935],\n",
       "       [ 0.12016857,  1.55163815],\n",
       "       [ 0.78153862,  0.78389332],\n",
       "       [-0.25775716,  0.81342196],\n",
       "       [ 0.21465001,  0.07520577],\n",
       "       [-1.20257151, -1.07641148],\n",
       "       [ 0.40361288, -0.45630988],\n",
       "       [-1.10809008,  0.31143495],\n",
       "       [ 0.21465001, -0.36772394],\n",
       "       [ 2.10427871, -0.81065365],\n",
       "       [ 0.40361288,  0.28190631],\n",
       "       [-1.10809008, -1.60792714],\n",
       "       [-0.91912721, -0.42678123],\n",
       "       [ 1.25394579, -1.37169796],\n",
       "       [-0.73016434, -0.2200807 ],\n",
       "       [-0.06879429, -0.42678123],\n",
       "       [-1.01360864, -0.36772394],\n",
       "       [ 1.15946436, -0.75159636],\n",
       "       [-0.25775716,  0.28190631],\n",
       "       [ 0.68705718, -1.4012266 ],\n",
       "       [ 1.34842723,  2.37844028],\n",
       "       [ 0.02568714, -0.24960935],\n",
       "       [-1.39153438, -1.22405472],\n",
       "       [ 0.78153862, -1.10594013],\n",
       "       [-0.06879429,  0.28190631],\n",
       "       [ 1.5373901 ,  1.13823709],\n",
       "       [-0.54120147,  1.49258086],\n",
       "       [-1.01360864, -0.33819529],\n",
       "       [ 0.97050149,  0.78389332],\n",
       "       [ 0.87602005, -1.4602839 ],\n",
       "       [-0.91912721,  0.45907819],\n",
       "       [-1.76946012, -1.43075525],\n",
       "       [-1.76946012, -1.28311201],\n",
       "       [-0.6356829 ,  1.43352356],\n",
       "       [-0.25775716, -0.24960935],\n",
       "       [-0.06879429, -1.07641148],\n",
       "       [-0.73016434,  0.28190631],\n",
       "       [-0.6356829 , -0.04290882],\n",
       "       [-0.16327573, -0.45630988],\n",
       "       [-0.82464577,  2.31938299],\n",
       "       [ 0.87602005, -0.60395312],\n",
       "       [ 0.49809431,  1.25635168],\n",
       "       [ 0.87602005,  1.04965114],\n",
       "       [ 1.8208344 ,  1.55163815],\n",
       "       [ 1.06498292,  0.57719278],\n",
       "       [-0.54120147,  2.37844028],\n",
       "       [ 0.30913144,  0.28190631],\n",
       "       [-1.01360864, -1.13546878],\n",
       "       [-0.25775716, -0.48583853],\n",
       "       [ 0.97050149,  2.11268246],\n",
       "       [ 1.44290866,  0.37049225],\n",
       "       [-1.39153438, -0.19055205],\n",
       "       [ 0.21465001,  2.1422111 ],\n",
       "       [ 2.10427871, -0.81065365],\n",
       "       [-0.06879429,  0.04567713],\n",
       "       [ 1.91531584, -0.66301041],\n",
       "       [-0.44672003, -0.54489582],\n",
       "       [-0.82464577, -1.22405472],\n",
       "       [-0.73016434,  1.93551057],\n",
       "       [-0.16327573, -0.279138  ],\n",
       "       [ 2.10427871,  0.4000209 ],\n",
       "       [ 0.87602005, -0.66301041],\n",
       "       [ 0.78153862, -1.22405472],\n",
       "       [-0.25775716, -0.33819529],\n",
       "       [ 0.68705718, -0.72206771],\n",
       "       [-1.39153438, -0.10196611],\n",
       "       [-1.10809008,  0.31143495],\n",
       "       [ 1.06498292, -0.98782554],\n",
       "       [-1.76946012, -1.48981255],\n",
       "       [ 0.97050149,  1.81739598],\n",
       "       [-0.06879429,  0.16379172],\n",
       "       [ 0.30913144, -0.19055205],\n",
       "       [ 0.12016857,  0.04567713],\n",
       "       [ 1.25394579,  1.90598192],\n",
       "       [-0.82464577, -0.24960935],\n",
       "       [-1.01360864, -0.45630988],\n",
       "       [-0.25775716, -0.75159636],\n",
       "       [ 0.49809431,  1.87645328],\n",
       "       [-1.29705295, -0.42678123],\n",
       "       [ 0.30913144, -1.16499742],\n",
       "       [ 2.10427871,  1.13823709],\n",
       "       [-0.25775716,  0.07520577],\n",
       "       [-1.10809008, -1.16499742],\n",
       "       [ 1.25394579,  2.26032569],\n",
       "       [-1.29705295, -1.48981255],\n",
       "       [ 0.49809431,  1.75833869],\n",
       "       [-1.29705295,  0.57719278],\n",
       "       [ 0.97050149,  0.60672143],\n",
       "       [-0.25775716, -0.57442447],\n",
       "       [-1.39153438, -1.4602839 ],\n",
       "       [ 0.97050149, -1.07641148],\n",
       "       [-1.39153438,  0.37049225],\n",
       "       [-0.16327573,  2.2012684 ],\n",
       "       [-1.86394156,  0.37049225],\n",
       "       [-0.54120147,  1.40399491],\n",
       "       [-1.76946012, -1.31264066],\n",
       "       [-0.73016434,  0.31143495],\n",
       "       [ 1.06498292, -1.22405472],\n",
       "       [ 0.30913144,  0.07520577],\n",
       "       [-0.16327573,  0.16379172],\n",
       "       [ 0.87602005,  2.2012684 ],\n",
       "       [-0.3522386 ,  0.07520577],\n",
       "       [-1.58049725,  0.54766414],\n",
       "       [ 0.21465001,  0.16379172],\n",
       "       [-1.86394156,  0.48860684],\n",
       "       [-0.16327573,  0.87247926],\n",
       "       [ 0.30913144, -0.54489582],\n",
       "       [-0.82464577,  0.31143495],\n",
       "       [ 2.10427871, -0.69253906],\n",
       "       [-1.10809008,  0.3409636 ],\n",
       "       [-0.82464577,  0.4000209 ],\n",
       "       [-0.06879429,  0.13426307],\n",
       "       [ 1.06498292, -1.22405472],\n",
       "       [-0.44672003,  1.28588032],\n",
       "       [-1.67497869,  0.48860684],\n",
       "       [ 1.5373901 ,  1.0201225 ],\n",
       "       [ 0.40361288, -0.16102341],\n",
       "       [-0.91912721, -0.75159636],\n",
       "       [-0.73016434, -0.60395312],\n",
       "       [ 1.44290866,  2.17173975],\n",
       "       [-1.29705295, -0.33819529],\n",
       "       [ 1.15946436, -1.4602839 ],\n",
       "       [ 0.30913144,  0.51813549],\n",
       "       [-0.25775716,  1.13823709],\n",
       "       [ 0.59257575, -0.8992396 ],\n",
       "       [ 0.97050149, -1.07641148],\n",
       "       [ 1.34842723, -1.43075525],\n",
       "       [-0.25775716,  0.16379172],\n",
       "       [ 1.8208344 ,  0.13426307],\n",
       "       [ 0.12016857,  0.16379172],\n",
       "       [ 0.68705718, -1.10594013],\n",
       "       [ 0.02568714,  1.25635168],\n",
       "       [ 1.44290866, -1.04688283],\n",
       "       [-0.91912721,  0.42954955],\n",
       "       [-1.29705295,  0.42954955],\n",
       "       [ 0.97050149,  1.90598192],\n",
       "       [-0.44672003, -0.01338017],\n",
       "       [ 0.12016857,  0.28190631],\n",
       "       [-1.10809008,  1.43352356],\n",
       "       [ 0.78153862,  0.13426307],\n",
       "       [-1.01360864, -1.54886984],\n",
       "       [-0.73016434, -1.60792714],\n",
       "       [-1.48601582, -0.19055205],\n",
       "       [-0.06879429,  0.69530737],\n",
       "       [ 0.87602005,  1.10870844],\n",
       "       [ 1.06498292, -0.8992396 ],\n",
       "       [-0.44672003,  2.34891164],\n",
       "       [ 0.12016857,  1.90598192],\n",
       "       [-0.25775716,  0.16379172],\n",
       "       [ 0.40361288,  0.01614848],\n",
       "       [ 1.06498292,  0.54766414],\n",
       "       [-0.25775716, -0.66301041],\n",
       "       [ 1.44290866,  0.07520577],\n",
       "       [-1.01360864, -0.33819529],\n",
       "       [-0.44672003, -0.279138  ],\n",
       "       [ 0.97050149, -0.8401823 ],\n",
       "       [ 1.34842723,  0.60672143],\n",
       "       [ 0.12016857, -0.81065365],\n",
       "       [-0.6356829 ,  0.13426307],\n",
       "       [ 0.02568714, -0.42678123],\n",
       "       [-1.48601582, -1.25358337],\n",
       "       [-0.06879429,  0.31143495],\n",
       "       [-1.01360864,  0.54766414],\n",
       "       [-1.76946012,  0.19332036],\n",
       "       [-1.67497869,  0.37049225],\n",
       "       [-0.06879429,  0.01614848],\n",
       "       [-0.06879429,  1.99456787],\n",
       "       [-1.10809008, -1.01735419],\n",
       "       [-1.86394156, -0.04290882],\n",
       "       [-0.6356829 , -1.60792714],\n",
       "       [ 0.97050149, -1.01735419],\n",
       "       [ 0.02568714,  0.04567713],\n",
       "       [ 1.5373901 , -1.28311201],\n",
       "       [-0.44672003, -0.8401823 ],\n",
       "       [ 0.21465001, -0.30866664],\n",
       "       [ 0.40361288, -0.48583853],\n",
       "       [-1.10809008, -1.60792714],\n",
       "       [ 0.40361288,  0.10473442],\n",
       "       [ 1.06498292,  0.48860684],\n",
       "       [-1.67497869, -0.98782554],\n",
       "       [ 0.12016857,  0.22284901],\n",
       "       [ 0.87602005, -1.04688283],\n",
       "       [-1.10809008,  0.42954955],\n",
       "       [-1.76946012,  0.45907819],\n",
       "       [ 0.78153862,  0.37049225],\n",
       "       [-1.01360864, -1.4602839 ],\n",
       "       [ 0.78153862, -1.4012266 ],\n",
       "       [-0.16327573, -0.57442447],\n",
       "       [ 0.02568714,  0.31143495],\n",
       "       [ 2.00979727, -0.81065365],\n",
       "       [-0.91912721,  1.5811668 ],\n",
       "       [-1.48601582,  0.3409636 ],\n",
       "       [ 0.87602005, -0.78112501],\n",
       "       [-0.06879429, -0.36772394],\n",
       "       [-0.06879429,  0.25237766],\n",
       "       [-0.44672003, -1.22405472],\n",
       "       [-0.3522386 ,  1.34493762],\n",
       "       [ 0.87602005, -0.54489582],\n",
       "       [-1.10809008, -1.57839849],\n",
       "       [-0.82464577,  0.4000209 ],\n",
       "       [-0.06879429, -0.51536718],\n",
       "       [ 1.06498292, -0.13149476],\n",
       "       [-1.29705295, -1.25358337],\n",
       "       [ 0.87602005, -1.37169796],\n",
       "       [ 1.34842723,  1.31540897],\n",
       "       [ 0.97050149,  0.13426307],\n",
       "       [ 2.00979727,  2.17173975],\n",
       "       [ 0.30913144, -0.51536718],\n",
       "       [ 1.63187153,  1.78786733],\n",
       "       [-0.25775716, -0.57442447],\n",
       "       [ 1.63187153,  1.6402241 ],\n",
       "       [-0.6356829 ,  0.04567713],\n",
       "       [-1.10809008, -0.78112501],\n",
       "       [-1.86394156, -0.51536718],\n",
       "       [-1.20257151,  0.60672143],\n",
       "       [-1.29705295, -0.42678123],\n",
       "       [-0.16327573, -0.51536718],\n",
       "       [-1.10809008, -0.51536718],\n",
       "       [-1.29705295, -1.10594013],\n",
       "       [-0.91912721,  0.57719278],\n",
       "       [ 0.02568714, -0.13149476],\n",
       "       [-1.86394156, -0.75159636],\n",
       "       [ 0.68705718,  0.28190631],\n",
       "       [ 0.21465001,  0.16379172],\n",
       "       [ 0.40361288,  0.60672143],\n",
       "       [ 1.5373901 ,  0.01614848],\n",
       "       [-0.25775716,  2.28985434],\n",
       "       [-0.54120147, -1.51934119],\n",
       "       [-0.16327573,  1.43352356],\n",
       "       [-0.25775716,  0.04567713],\n",
       "       [ 0.87602005, -1.31264066],\n",
       "       [ 0.21465001, -0.36772394],\n",
       "       [ 2.10427871,  0.9610652 ],\n",
       "       [ 0.78153862,  0.54766414]])"
      ]
     },
     "execution_count": 188,
     "metadata": {},
     "output_type": "execute_result"
    }
   ],
   "source": [
    "X_train=scaler.fit_transform(X_train)\n",
    "X_train"
   ]
  },
  {
   "cell_type": "code",
   "execution_count": 189,
   "metadata": {},
   "outputs": [
    {
     "data": {
      "text/plain": [
       "array([[ 1.72635297,  1.0201225 ],\n",
       "       [ 0.21465001, -0.24960935],\n",
       "       [-0.3522386 , -0.78112501],\n",
       "       [ 0.78153862, -0.8401823 ],\n",
       "       [-0.06879429,  0.22284901],\n",
       "       [-0.3522386 ,  1.25635168],\n",
       "       [-0.25775716,  0.63625008],\n",
       "       [-0.25775716, -0.92876824],\n",
       "       [ 0.40361288, -0.45630988],\n",
       "       [-1.01360864,  1.99456787],\n",
       "       [ 0.21465001, -0.13149476],\n",
       "       [ 0.30913144,  0.07520577],\n",
       "       [-0.16327573,  1.6402241 ],\n",
       "       [-0.25775716, -0.30866664],\n",
       "       [-0.25775716,  0.07520577],\n",
       "       [-1.58049725, -0.04290882],\n",
       "       [ 0.97050149, -1.16499742],\n",
       "       [-0.6356829 ,  0.19332036],\n",
       "       [ 0.12016857,  1.07917979],\n",
       "       [ 1.91531584, -1.37169796],\n",
       "       [-1.10809008, -1.10594013],\n",
       "       [ 1.91531584, -0.92876824],\n",
       "       [ 2.00979727,  0.4000209 ],\n",
       "       [-1.20257151,  0.31143495],\n",
       "       [ 0.02568714, -0.57442447],\n",
       "       [ 0.30913144, -0.51536718],\n",
       "       [-0.3522386 , -1.31264066],\n",
       "       [-0.6356829 , -0.33819529],\n",
       "       [ 0.30913144,  0.31143495],\n",
       "       [-1.01360864,  0.42954955],\n",
       "       [-1.39153438, -0.63348177],\n",
       "       [-0.6356829 , -1.51934119],\n",
       "       [-0.73016434,  0.57719278],\n",
       "       [ 0.21465001,  0.04567713],\n",
       "       [-0.16327573, -1.07641148],\n",
       "       [ 0.02568714, -0.57442447],\n",
       "       [-1.10809008,  0.48860684],\n",
       "       [-0.16327573,  1.66975274],\n",
       "       [-0.82464577, -0.66301041],\n",
       "       [-0.73016434,  1.37446627],\n",
       "       [-0.25775716, -0.36772394],\n",
       "       [-0.54120147,  1.40399491],\n",
       "       [ 1.72635297,  1.87645328],\n",
       "       [ 0.87602005, -1.16499742],\n",
       "       [-0.06879429,  2.2012684 ],\n",
       "       [-0.82464577, -0.78112501],\n",
       "       [ 0.30913144, -0.279138  ],\n",
       "       [-1.67497869,  0.13426307],\n",
       "       [ 0.87602005, -0.57442447],\n",
       "       [ 0.30913144,  0.07520577],\n",
       "       [ 1.91531584,  2.2012684 ],\n",
       "       [ 0.40361288,  0.31143495],\n",
       "       [ 0.40361288,  2.34891164],\n",
       "       [ 1.8208344 , -1.07641148],\n",
       "       [-1.58049725, -1.57839849],\n",
       "       [-1.67497869,  0.37049225],\n",
       "       [-0.25775716, -1.4602839 ],\n",
       "       [-1.01360864,  0.57719278],\n",
       "       [ 0.78153862, -0.30866664],\n",
       "       [ 0.12016857,  0.10473442],\n",
       "       [ 0.87602005,  1.28588032],\n",
       "       [ 1.8208344 , -0.279138  ],\n",
       "       [-0.91912721,  0.28190631],\n",
       "       [-0.91912721, -1.10594013],\n",
       "       [ 0.78153862,  0.28190631],\n",
       "       [ 0.30913144, -0.30866664],\n",
       "       [-1.10809008, -1.54886984],\n",
       "       [-0.16327573, -0.19055205],\n",
       "       [-0.06879429,  2.26032569],\n",
       "       [ 0.30913144, -0.72206771],\n",
       "       [ 1.34842723, -0.92876824],\n",
       "       [ 0.02568714, -0.30866664],\n",
       "       [ 0.78153862, -1.37169796],\n",
       "       [-1.58049725,  0.07520577],\n",
       "       [-0.91912721,  0.51813549],\n",
       "       [-0.25775716,  0.10473442],\n",
       "       [-0.54120147,  1.93551057],\n",
       "       [-1.67497869, -0.60395312],\n",
       "       [ 0.21465001, -0.36772394],\n",
       "       [ 1.06498292,  2.11268246]])"
      ]
     },
     "execution_count": 189,
     "metadata": {},
     "output_type": "execute_result"
    }
   ],
   "source": [
    "X_test=scaler.transform(X_test)\n",
    "X_test"
   ]
  },
  {
   "cell_type": "code",
   "execution_count": 190,
   "metadata": {},
   "outputs": [
    {
     "data": {
      "text/plain": [
       "17.88854381999832"
      ]
     },
     "execution_count": 190,
     "metadata": {},
     "output_type": "execute_result"
    }
   ],
   "source": [
    "# 1st method\n",
    "np.sqrt(X_train.shape[0])"
   ]
  },
  {
   "cell_type": "code",
   "execution_count": 191,
   "metadata": {},
   "outputs": [],
   "source": [
    "k=17"
   ]
  },
  {
   "cell_type": "code",
   "execution_count": 192,
   "metadata": {},
   "outputs": [],
   "source": [
    "from sklearn.neighbors import KNeighborsClassifier\n",
    "knn=KNeighborsClassifier(n_neighbors=k)"
   ]
  },
  {
   "cell_type": "code",
   "execution_count": 193,
   "metadata": {},
   "outputs": [
    {
     "data": {
      "text/plain": [
       "KNeighborsClassifier(algorithm='auto', leaf_size=30, metric='minkowski',\n",
       "                     metric_params=None, n_jobs=None, n_neighbors=17, p=2,\n",
       "                     weights='uniform')"
      ]
     },
     "execution_count": 193,
     "metadata": {},
     "output_type": "execute_result"
    }
   ],
   "source": [
    "# Train our model\n",
    "knn.fit(X_train,y_train)"
   ]
  },
  {
   "cell_type": "code",
   "execution_count": 194,
   "metadata": {},
   "outputs": [],
   "source": [
    "y_pred=knn.predict(X_test)"
   ]
  },
  {
   "cell_type": "code",
   "execution_count": 195,
   "metadata": {},
   "outputs": [
    {
     "data": {
      "text/plain": [
       "(80,)"
      ]
     },
     "execution_count": 195,
     "metadata": {},
     "output_type": "execute_result"
    }
   ],
   "source": [
    "y_pred.shape"
   ]
  },
  {
   "cell_type": "code",
   "execution_count": 196,
   "metadata": {},
   "outputs": [
    {
     "data": {
      "text/plain": [
       "(80,)"
      ]
     },
     "execution_count": 196,
     "metadata": {},
     "output_type": "execute_result"
    }
   ],
   "source": [
    "y_test.shape"
   ]
  },
  {
   "cell_type": "code",
   "execution_count": 197,
   "metadata": {},
   "outputs": [
    {
     "data": {
      "text/plain": [
       "0.9375"
      ]
     },
     "execution_count": 197,
     "metadata": {},
     "output_type": "execute_result"
    }
   ],
   "source": [
    "from sklearn.metrics import accuracy_score\n",
    "accuracy_score(y_test,y_pred)"
   ]
  },
  {
   "cell_type": "code",
   "execution_count": 198,
   "metadata": {},
   "outputs": [
    {
     "data": {
      "text/plain": [
       "array([[50,  3],\n",
       "       [ 2, 25]], dtype=int64)"
      ]
     },
     "execution_count": 198,
     "metadata": {},
     "output_type": "execute_result"
    }
   ],
   "source": [
    "from sklearn.metrics import confusion_matrix\n",
    "confusion_matrix(y_test,y_pred)"
   ]
  },
  {
   "cell_type": "code",
   "execution_count": 199,
   "metadata": {},
   "outputs": [],
   "source": [
    "# 2nd method\n",
    "\n",
    "accuracy=[]\n",
    "\n",
    "for i in range(1,26):\n",
    "    knn=KNeighborsClassifier(n_neighbors=i)\n",
    "    knn.fit(X_train,y_train)\n",
    "    accuracy.append(accuracy_score(y_test,knn.predict(X_test)))\n",
    "    "
   ]
  },
  {
   "cell_type": "code",
   "execution_count": 200,
   "metadata": {},
   "outputs": [
    {
     "data": {
      "text/plain": [
       "25"
      ]
     },
     "execution_count": 200,
     "metadata": {},
     "output_type": "execute_result"
    }
   ],
   "source": [
    "len(accuracy)"
   ]
  },
  {
   "cell_type": "code",
   "execution_count": 201,
   "metadata": {},
   "outputs": [
    {
     "data": {
      "text/plain": [
       "[<matplotlib.lines.Line2D at 0xb18d597208>]"
      ]
     },
     "execution_count": 201,
     "metadata": {},
     "output_type": "execute_result"
    },
    {
     "data": {
      "image/png": "[encoded data removed]",
      "text/plain": [
       "<Figure size 432x288 with 1 Axes>"
      ]
     },
     "metadata": {
      "needs_background": "light"
     },
     "output_type": "display_data"
    }
   ],
   "source": [
    "plt.plot(range(1,26),accuracy)"
   ]
  },
  {
   "cell_type": "code",
   "execution_count": 202,
   "metadata": {},
   "outputs": [
    {
     "data": {
      "text/plain": [
       "KNeighborsClassifier(algorithm='auto', leaf_size=30, metric='minkowski',\n",
       "                     metric_params=None, n_jobs=None, n_neighbors=11, p=2,\n",
       "                     weights='uniform')"
      ]
     },
     "execution_count": 202,
     "metadata": {},
     "output_type": "execute_result"
    }
   ],
   "source": [
    "knn=KNeighborsClassifier(n_neighbors=11)\n",
    "knn.fit(X_train,y_train)"
   ]
  },
  {
   "cell_type": "code",
   "execution_count": 203,
   "metadata": {},
   "outputs": [],
   "source": [
    "y_pred=knn.predict(X_test)"
   ]
  },
  {
   "cell_type": "code",
   "execution_count": 204,
   "metadata": {},
   "outputs": [
    {
     "data": {
      "text/plain": [
       "0.9375"
      ]
     },
     "execution_count": 204,
     "metadata": {},
     "output_type": "execute_result"
    }
   ],
   "source": [
    "accuracy_score(y_test,y_pred)"
   ]
  },
  {
   "cell_type": "code",
   "execution_count": 205,
   "metadata": {},
   "outputs": [],
   "source": [
    "def predict_output():\n",
    "    age=int(input(\"Enter the age\"))\n",
    "    salary=int(input(\"Enter the salary\"))\n",
    "    \n",
    "    X_new=np.array([[age],[salary]]).reshape(1,2)\n",
    "    X_new=scaler.transform(X_new)\n",
    "    \n",
    "    if knn.predict(X_new)[0]==0:\n",
    "        return \"Will not purchase\"\n",
    "    else:\n",
    "        return \"Will purchase\""
   ]
  },
  {
   "cell_type": "code",
   "execution_count": 206,
   "metadata": {},
   "outputs": [
    {
     "name": "stdout",
     "output_type": "stream",
     "text": [
      "Enter the age20\n",
      "Enter the salary20000\n"
     ]
    },
    {
     "data": {
      "text/plain": [
       "'Will not purchase'"
      ]
     },
     "execution_count": 206,
     "metadata": {},
     "output_type": "execute_result"
    }
   ],
   "source": [
    "predict_output()"
   ]
  },
  {
   "cell_type": "code",
   "execution_count": null,
   "metadata": {},
   "outputs": [],
   "source": []
  },
  {
   "cell_type": "markdown",
   "metadata": {},
   "source": [
    "### Few Observations"
   ]
  },
  {
   "cell_type": "code",
   "execution_count": 275,
   "metadata": {},
   "outputs": [],
   "source": [
    "# 1. Hyperparameters\n",
    "\n",
    "# 2. Method to choose K\n",
    "\n",
    "# ---->Method 1 K=17\n",
    "# ---->Method 2 K=11"
   ]
  },
  {
   "cell_type": "markdown",
   "metadata": {},
   "source": [
    "## 1. Decision Boundary for Knn"
   ]
  },
  {
   "cell_type": "markdown",
   "metadata": {},
   "source": [
    "### 1. What is Decision Boundary\n",
    "\n",
    "<p>In a classification problem with two or more classes, a decision boundary or decision surface is a hypersurface that partitions the underlying vector space into two or more sets, one for each class. The classifier will classify all the points on one side of the decision boundary as belonging to one class and all those on the other side as belonging to the other class.</p>\n",
    "\n",
    "<img src='https://aws1.discourse-cdn.com/business5/uploads/julialang/original/2X/f/f11eb7f942661dd020c059a3a9718305fd550c41.png'>"
   ]
  },
  {
   "cell_type": "markdown",
   "metadata": {},
   "source": [
    "### Important Points\n",
    "<ol>\n",
    "    <li>We can draw decision boundary for all the classification algorithms including Neural networks</li>\n",
    "    <li>Decision boundary can be both linear(as in the case of SVM) or non-linear(as in the case of Decision tree classifier or Knn) </li>\n",
    "    <li>Decision boundaries are not always clear cut. That is, the transition from one class in the feature space to another is not discontinuous, but gradual. This effect is common in fuzzy logic based classification algorithms, where membership in one class or another is ambiguous.</li>\n",
    "    <li>For higher dimension problems the decision boundary acts as a hyperplane(for linear ones)</li>\n",
    "</ol>"
   ]
  },
  {
   "cell_type": "markdown",
   "metadata": {},
   "source": [
    "## 2. Vornoi Diagram"
   ]
  },
  {
   "cell_type": "markdown",
   "metadata": {},
   "source": [
    "<p>In mathematics, a Voronoi diagram is a partitioning of a plane into regions based on distance to points in a specific subset of the plane.</p>\n",
    "\n",
    "<img src='https://upload.wikimedia.org/wikipedia/commons/thumb/5/54/Euclidean_Voronoi_diagram.svg/220px-Euclidean_Voronoi_diagram.svg.png'>"
   ]
  },
  {
   "cell_type": "markdown",
   "metadata": {},
   "source": [
    "## 3. Steps to plot Decision Boundary for Knn(Assuming 2 input cols)\n",
    "<ol>\n",
    "    <li>Train the classifier on the training set.</li>\n",
    "    <li>Create a uniform grid(with the help of Numpy Meshgrids) of points that densely cover the region of input space containing the training set.</li>\n",
    "    <li>Classify each point on the grid. Store the results in an array A, where Aij contains the predicted class for the point at row i, column j on the grid.</li>\n",
    "    <li>Plot the array as an image, where each pixel corresponds to a grid point and its color represents the predicted class. The decision boundary can be seen as contours where the image changes color.</li>\n",
    "    <li>Finally print out the training data with their respective color on the same contour</li>\n",
    "</ol>"
   ]
  },
  {
   "cell_type": "markdown",
   "metadata": {},
   "source": [
    "### Step 2: Creating a Meshgrid"
   ]
  },
  {
   "cell_type": "code",
   "execution_count": 323,
   "metadata": {},
   "outputs": [],
   "source": [
    "a=np.arange(start=X_train[:,0].min()-1, stop=X_train[:,0].max()+1, step=0.01)\n",
    "b=np.arange(start=X_train[:,1].min()-1, stop=X_train[:,1].max()+1, step=0.01)\n",
    "\n",
    "\n",
    "XX,YY=np.meshgrid(a,b)"
   ]
  },
  {
   "cell_type": "code",
   "execution_count": 326,
   "metadata": {},
   "outputs": [
    {
     "data": {
      "text/plain": [
       "(599, 597)"
      ]
     },
     "execution_count": 326,
     "metadata": {},
     "output_type": "execute_result"
    }
   ],
   "source": [
    "YY.shape"
   ]
  },
  {
   "cell_type": "markdown",
   "metadata": {},
   "source": [
    "### Step 3: Classifiying every point on the meshgrid"
   ]
  },
  {
   "cell_type": "code",
   "execution_count": 354,
   "metadata": {},
   "outputs": [],
   "source": [
    "input_array=np.array([XX.ravel(),YY.ravel()]).T\n",
    "\n",
    "labels=knn.predict(input_array)"
   ]
  },
  {
   "cell_type": "code",
   "execution_count": 352,
   "metadata": {},
   "outputs": [
    {
     "data": {
      "text/plain": [
       "(357603,)"
      ]
     },
     "execution_count": 352,
     "metadata": {},
     "output_type": "execute_result"
    }
   ],
   "source": [
    "labels"
   ]
  },
  {
   "cell_type": "markdown",
   "metadata": {},
   "source": [
    "### Step 4: Plotting the array as an image"
   ]
  },
  {
   "cell_type": "code",
   "execution_count": 355,
   "metadata": {},
   "outputs": [
    {
     "data": {
      "text/plain": [
       "<matplotlib.contour.QuadContourSet at 0xb1911d5668>"
      ]
     },
     "execution_count": 355,
     "metadata": {},
     "output_type": "execute_result"
    },
    {
     "data": {
      "image/png": "[encoded data removed]",
      "text/plain": [
       "<Figure size 432x288 with 1 Axes>"
      ]
     },
     "metadata": {
      "needs_background": "light"
     },
     "output_type": "display_data"
    }
   ],
   "source": [
    "plt.contourf(XX,YY,labels.reshape(XX.shape))"
   ]
  },
  {
   "cell_type": "markdown",
   "metadata": {},
   "source": [
    "### Step 5: Plotting all the training data on the plot"
   ]
  },
  {
   "cell_type": "code",
   "execution_count": 359,
   "metadata": {},
   "outputs": [
    {
     "data": {
      "text/plain": [
       "<matplotlib.collections.PathCollection at 0xb19066ca20>"
      ]
     },
     "execution_count": 359,
     "metadata": {},
     "output_type": "execute_result"
    },
    {
     "data": {
      "image/png": "[encoded data removed]",
      "text/plain": [
       "<Figure size 432x288 with 1 Axes>"
      ]
     },
     "metadata": {
      "needs_background": "light"
     },
     "output_type": "display_data"
    }
   ],
   "source": [
    "plt.contourf(XX,YY,labels.reshape(XX.shape), alpha=0.75)\n",
    "plt.scatter(X_train[:,0],X_train[:,1], c=y_train)"
   ]
  },
  {
   "cell_type": "markdown",
   "metadata": {},
   "source": [
    "## Effect of K on Decision Boundary"
   ]
  },
  {
   "cell_type": "code",
   "execution_count": 3,
   "metadata": {},
   "outputs": [
    {
     "data": {
      "text/html": [
       "<div>\n",
       "<style scoped>\n",
       "    .dataframe tbody tr th:only-of-type {\n",
       "        vertical-align: middle;\n",
       "    }\n",
       "\n",
       "    .dataframe tbody tr th {\n",
       "        vertical-align: top;\n",
       "    }\n",
       "\n",
       "    .dataframe thead th {\n",
       "        text-align: right;\n",
       "    }\n",
       "</style>\n",
       "<table border=\"1\" class=\"dataframe\">\n",
       "  <thead>\n",
       "    <tr style=\"text-align: right;\">\n",
       "      <th></th>\n",
       "      <th>X</th>\n",
       "      <th>Y</th>\n",
       "      <th>class</th>\n",
       "    </tr>\n",
       "  </thead>\n",
       "  <tbody>\n",
       "    <tr>\n",
       "      <th>0</th>\n",
       "      <td>0.0316</td>\n",
       "      <td>0.9870</td>\n",
       "      <td>0.0</td>\n",
       "    </tr>\n",
       "    <tr>\n",
       "      <th>1</th>\n",
       "      <td>2.1200</td>\n",
       "      <td>-0.0462</td>\n",
       "      <td>1.0</td>\n",
       "    </tr>\n",
       "    <tr>\n",
       "      <th>2</th>\n",
       "      <td>0.8820</td>\n",
       "      <td>-0.0758</td>\n",
       "      <td>0.0</td>\n",
       "    </tr>\n",
       "    <tr>\n",
       "      <th>3</th>\n",
       "      <td>-0.0551</td>\n",
       "      <td>-0.0373</td>\n",
       "      <td>1.0</td>\n",
       "    </tr>\n",
       "    <tr>\n",
       "      <th>4</th>\n",
       "      <td>0.8300</td>\n",
       "      <td>-0.5390</td>\n",
       "      <td>1.0</td>\n",
       "    </tr>\n",
       "  </tbody>\n",
       "</table>\n",
       "</div>"
      ],
      "text/plain": [
       "        X       Y  class\n",
       "0  0.0316  0.9870    0.0\n",
       "1  2.1200 -0.0462    1.0\n",
       "2  0.8820 -0.0758    0.0\n",
       "3 -0.0551 -0.0373    1.0\n",
       "4  0.8300 -0.5390    1.0"
      ]
     },
     "execution_count": 3,
     "metadata": {},
     "output_type": "execute_result"
    }
   ],
   "source": [
    "ushape=pd.read_csv('toy_datasets/ushape.csv')\n",
    "ushape.head()"
   ]
  },
  {
   "cell_type": "code",
   "execution_count": null,
   "metadata": {},
   "outputs": [],
   "source": [
    "plt.scatter(ushape.iloc[:,])"
   ]
  }
 ],
 "metadata": {
  "kernelspec": {
   "display_name": "Python 3",
   "language": "python",
   "name": "python3"
  },
  "language_info": {
   "codemirror_mode": {
    "name": "ipython",
    "version": 3
   },
   "file_extension": ".py",
   "mimetype": "text/x-python",
   "name": "python",
   "nbconvert_exporter": "python",
   "pygments_lexer": "ipython3",
   "version": "3.7.3"
  }
 },
 "nbformat": 4,
 "nbformat_minor": 2
}
